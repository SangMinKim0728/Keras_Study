{
 "cells": [
  {
   "cell_type": "code",
   "execution_count": 4,
   "id": "8285afc8",
   "metadata": {},
   "outputs": [
    {
     "name": "stdout",
     "output_type": "stream",
     "text": [
      "Model: \"sequential\"\n",
      "_________________________________________________________________\n",
      " Layer (type)                Output Shape              Param #   \n",
      "=================================================================\n",
      " embed (Embedding)           (None, 500, 128)          256000    \n",
      "                                                                 \n",
      " conv1d (Conv1D)             (None, 494, 32)           28704     \n",
      "                                                                 \n",
      " max_pooling1d (MaxPooling1D  (None, 98, 32)           0         \n",
      " )                                                               \n",
      "                                                                 \n",
      " conv1d_1 (Conv1D)           (None, 92, 32)            7200      \n",
      "                                                                 \n",
      " global_max_pooling1d (Globa  (None, 32)               0         \n",
      " lMaxPooling1D)                                                  \n",
      "                                                                 \n",
      " dense (Dense)               (None, 1)                 33        \n",
      "                                                                 \n",
      "=================================================================\n",
      "Total params: 291,937\n",
      "Trainable params: 291,937\n",
      "Non-trainable params: 0\n",
      "_________________________________________________________________\n"
     ]
    }
   ],
   "source": [
    "# 텐서보드를 사용한 텍스트 분류 모델\n",
    "import keras\n",
    "from keras import layers\n",
    "from keras.datasets import imdb\n",
    "from keras.preprocessing import sequence\n",
    "\n",
    "max_features = 2000\n",
    "max_len = 500\n",
    "\n",
    "(x_train, y_train), (x_test, y_test) = imdb.load_data(num_words=max_features)\n",
    "x_train = keras.utils.data_utils.pad_sequences(x_train, maxlen=max_len)\n",
    "x_test = keras.utils.data_utils.pad_sequences(x_test, maxlen=max_len)\n",
    "\n",
    "model = keras.models.Sequential()\n",
    "model.add(layers.Embedding(max_features, 128, input_length=max_len, name='embed'))\n",
    "model.add(layers.Conv1D(32, 7, activation='relu'))\n",
    "model.add(layers.MaxPooling1D(5))\n",
    "model.add(layers.Conv1D(32, 7, activation='relu'))\n",
    "model.add(layers.GlobalMaxPooling1D())\n",
    "model.add(layers.Dense(1))\n",
    "model.summary()\n",
    "          \n",
    "model.compile(optimizer='rmsprop', loss='binary_crossentropy', metrics=['acc'])\n"
   ]
  },
  {
   "cell_type": "code",
   "execution_count": 6,
   "id": "831be20f",
   "metadata": {},
   "outputs": [],
   "source": [
    "# 텐서보드용 로그 파일\n",
    "!mkdir my_log_dir"
   ]
  },
  {
   "cell_type": "code",
   "execution_count": 9,
   "id": "0100cfc9",
   "metadata": {},
   "outputs": [
    {
     "name": "stdout",
     "output_type": "stream",
     "text": [
      "Epoch 1/20\n",
      "157/157 [==============================] - 11s 18ms/step - loss: 0.6358 - acc: 0.6543 - val_loss: 0.4731 - val_acc: 0.8098\n",
      "Epoch 2/20\n",
      "157/157 [==============================] - 3s 16ms/step - loss: 0.4420 - acc: 0.8497 - val_loss: 0.4495 - val_acc: 0.8446\n",
      "Epoch 3/20\n",
      "157/157 [==============================] - 3s 16ms/step - loss: 0.3714 - acc: 0.8782 - val_loss: 0.4527 - val_acc: 0.8594\n",
      "Epoch 4/20\n",
      "157/157 [==============================] - 3s 16ms/step - loss: 0.3325 - acc: 0.8999 - val_loss: 0.5569 - val_acc: 0.8490\n",
      "Epoch 5/20\n",
      "157/157 [==============================] - 3s 16ms/step - loss: 0.3102 - acc: 0.9146 - val_loss: 0.5924 - val_acc: 0.8530\n",
      "Epoch 6/20\n",
      "157/157 [==============================] - 3s 16ms/step - loss: 0.2290 - acc: 0.9417 - val_loss: 0.6339 - val_acc: 0.8588\n",
      "Epoch 7/20\n",
      "157/157 [==============================] - 3s 16ms/step - loss: 0.2080 - acc: 0.9530 - val_loss: 0.7019 - val_acc: 0.8612\n",
      "Epoch 8/20\n",
      "157/157 [==============================] - 3s 16ms/step - loss: 0.1712 - acc: 0.9667 - val_loss: 0.7264 - val_acc: 0.8640\n",
      "Epoch 9/20\n",
      "157/157 [==============================] - 3s 16ms/step - loss: 0.1346 - acc: 0.9803 - val_loss: 0.8411 - val_acc: 0.8638\n",
      "Epoch 10/20\n",
      "157/157 [==============================] - 3s 16ms/step - loss: 0.1155 - acc: 0.9852 - val_loss: 0.9899 - val_acc: 0.8614\n",
      "Epoch 11/20\n",
      "157/157 [==============================] - 3s 16ms/step - loss: 0.1004 - acc: 0.9888 - val_loss: 1.0053 - val_acc: 0.8564\n",
      "Epoch 12/20\n",
      "157/157 [==============================] - 3s 16ms/step - loss: 0.0946 - acc: 0.9896 - val_loss: 1.0620 - val_acc: 0.8614\n",
      "Epoch 13/20\n",
      "157/157 [==============================] - 3s 16ms/step - loss: 0.0886 - acc: 0.9920 - val_loss: 1.0699 - val_acc: 0.8620\n",
      "Epoch 14/20\n",
      "157/157 [==============================] - 3s 16ms/step - loss: 0.0837 - acc: 0.9925 - val_loss: 1.0965 - val_acc: 0.8604\n",
      "Epoch 15/20\n",
      "157/157 [==============================] - 3s 16ms/step - loss: 0.0863 - acc: 0.9919 - val_loss: 1.1946 - val_acc: 0.8600\n",
      "Epoch 16/20\n",
      "157/157 [==============================] - 3s 16ms/step - loss: 0.0837 - acc: 0.9923 - val_loss: 1.2494 - val_acc: 0.8586\n",
      "Epoch 17/20\n",
      "157/157 [==============================] - 3s 16ms/step - loss: 0.0907 - acc: 0.9920 - val_loss: 1.1906 - val_acc: 0.8602\n",
      "Epoch 18/20\n",
      "157/157 [==============================] - 3s 16ms/step - loss: 0.0857 - acc: 0.9919 - val_loss: 1.3398 - val_acc: 0.8512\n",
      "Epoch 19/20\n",
      "157/157 [==============================] - 3s 16ms/step - loss: 0.0820 - acc: 0.9925 - val_loss: 1.4469 - val_acc: 0.8498\n",
      "Epoch 20/20\n",
      "157/157 [==============================] - 3s 16ms/step - loss: 0.0817 - acc: 0.9930 - val_loss: 1.2953 - val_acc: 0.8576\n"
     ]
    }
   ],
   "source": [
    "# 텐서보드 콜백과 모델 훈련\n",
    "\n",
    "callbacks=[\n",
    "    keras.callbacks.TensorBoard(\n",
    "        log_dir='my_log_dir',\n",
    "        histogram_freq=1,\n",
    "        embeddings_freq=1,\n",
    "    )\n",
    "]\n",
    "\n",
    "history = model.fit(x_train, y_train,\n",
    "                   epochs=20,\n",
    "                   batch_size=128,\n",
    "                   validation_split=0.2,\n",
    "                   callbacks=callbacks)"
   ]
  },
  {
   "cell_type": "code",
   "execution_count": 10,
   "id": "2a53eabf",
   "metadata": {},
   "outputs": [
    {
     "name": "stdout",
     "output_type": "stream",
     "text": [
      "^C\n"
     ]
    }
   ],
   "source": [
    "# 텐서보드 실행\n",
    "!tensorboard --logdir=my_log_dir"
   ]
  },
  {
   "cell_type": "code",
   "execution_count": null,
   "id": "86952e8d",
   "metadata": {},
   "outputs": [],
   "source": [
    "# http://localhost:6006/"
   ]
  }
 ],
 "metadata": {
  "kernelspec": {
   "display_name": "Python 3 (ipykernel)",
   "language": "python",
   "name": "python3"
  },
  "language_info": {
   "codemirror_mode": {
    "name": "ipython",
    "version": 3
   },
   "file_extension": ".py",
   "mimetype": "text/x-python",
   "name": "python",
   "nbconvert_exporter": "python",
   "pygments_lexer": "ipython3",
   "version": "3.9.12"
  }
 },
 "nbformat": 4,
 "nbformat_minor": 5
}
