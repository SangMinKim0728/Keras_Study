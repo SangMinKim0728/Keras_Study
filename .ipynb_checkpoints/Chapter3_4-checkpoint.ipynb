{
 "cells": [
  {
   "cell_type": "code",
   "execution_count": 19,
   "id": "5ca8ee92",
   "metadata": {},
   "outputs": [
    {
     "name": "stdout",
     "output_type": "stream",
     "text": [
      "Epoch 1/4\n",
      "49/49 [==============================] - 1s 11ms/step - loss: 0.4719 - accuracy: 0.8268\n",
      "Epoch 2/4\n",
      "49/49 [==============================] - 0s 9ms/step - loss: 0.2692 - accuracy: 0.9091\n",
      "Epoch 3/4\n",
      "49/49 [==============================] - 0s 8ms/step - loss: 0.2059 - accuracy: 0.9270\n",
      "Epoch 4/4\n",
      "49/49 [==============================] - 0s 8ms/step - loss: 0.1722 - accuracy: 0.9401\n",
      "\n",
      "\n",
      "782/782 [==============================] - 1s 893us/step - loss: 0.2872 - accuracy: 0.8853\n",
      "782/782 [==============================] - 1s 1ms/step\n"
     ]
    },
    {
     "data": {
      "text/plain": [
       "array([[0.1958855 ],\n",
       "       [0.9994663 ],\n",
       "       [0.9091124 ],\n",
       "       ...,\n",
       "       [0.11130385],\n",
       "       [0.05966567],\n",
       "       [0.6489154 ]], dtype=float32)"
      ]
     },
     "execution_count": 19,
     "metadata": {},
     "output_type": "execute_result"
    }
   ],
   "source": [
    "from keras.datasets import imdb\n",
    "# 50000개 리뷰 데이터를 가지고 온다\n",
    "\n",
    "# 10,000개의 단어를 이용, \n",
    "(train_data, train_labels), (test_data, test_labels) = imdb.load_data(num_words=10000)\n",
    "\n",
    "# train_data[0] : 영화 평론의 문장임\n",
    "# [1, 14, 22, 16, 43, ... ] : 문장 속 단어들 각각이 숫자 시퀀스로 대체됨\n",
    "# 위의 14, 22 숫자가 단어임, 43 : 'all'\n",
    "\n",
    "import numpy as np\n",
    "\n",
    "def vectorize_sequences(sequences, dimension=10000):\n",
    "    # 크기가 (len(sequences), dimension))이고 모든 원소가 0인 행렬을 만듭니다\n",
    "    results = np.zeros((len(sequences), dimension))\n",
    "    for i, sequence in enumerate(sequences):\n",
    "        results[i, sequence] = 1.  # results[i]에서 특정 인덱스의 위치를 1로 만듭니다\n",
    "    return results\n",
    "\n",
    "# 훈련, 테스트 데이터를 벡터로 변환합니다\n",
    "x_train = vectorize_sequences(train_data)\n",
    "x_test = vectorize_sequences(test_data)\n",
    "\n",
    "len(x_train[0])\n",
    "\n",
    "# 레이블을 벡터로 바꿉니다\n",
    "y_train = np.asarray(train_labels).astype('float32')\n",
    "y_test = np.asarray(test_labels).astype('float32')\n",
    "\n",
    "\n",
    "# 신경만 구축\n",
    "from keras import models\n",
    "from keras import layers\n",
    "\n",
    "model = models.Sequential()\n",
    "model.add(layers.Dense(16, activation='relu', input_shape=(10000,)))\n",
    "model.add(layers.Dense(16, activation='relu'))\n",
    "model.add(layers.Dense(1, activation='sigmoid'))\n",
    "\n",
    "model.compile(optimizer='rmsprop',\n",
    "              loss='binary_crossentropy',\n",
    "              metrics=['accuracy'])\n",
    "\n",
    "# 본 훈련 데이터에서 10,000의 샘플을 떼어서 검증 세트\n",
    "x_val = x_train[:10000]\n",
    "partial_x_train = x_train[10000:]\n",
    "\n",
    "y_val = y_train[:10000]\n",
    "partial_y_train = y_train[10000:]\n",
    "\n",
    "\n",
    "# 훈련 검증\n",
    "#history = model.fit(partial_x_train,\n",
    "#                    partial_y_train,\n",
    "#                    epochs=20,\n",
    "#                    batch_size=512,\n",
    "#                    validation_data=(x_val, y_val))\n",
    "\n",
    "# 훈련하고 테스트 데이터에서 평가\n",
    "model.fit(x_train, y_train, epochs=4, batch_size=512)\n",
    "print('\\n')\n",
    "results = model.evaluate(x_test, y_test)\n",
    "\n",
    "# 훈련된 모델로 새로운 데이터에 대해 예측하기\n",
    "model.predict(x_test)\n"
   ]
  },
  {
   "cell_type": "code",
   "execution_count": null,
   "id": "02350748",
   "metadata": {},
   "outputs": [],
   "source": []
  }
 ],
 "metadata": {
  "kernelspec": {
   "display_name": "keras_study",
   "language": "python",
   "name": "keras_study"
  },
  "language_info": {
   "codemirror_mode": {
    "name": "ipython",
    "version": 3
   },
   "file_extension": ".py",
   "mimetype": "text/x-python",
   "name": "python",
   "nbconvert_exporter": "python",
   "pygments_lexer": "ipython3",
   "version": "3.8.8"
  }
 },
 "nbformat": 4,
 "nbformat_minor": 5
}
